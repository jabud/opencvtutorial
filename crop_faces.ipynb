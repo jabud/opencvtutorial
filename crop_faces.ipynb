{
 "cells": [
  {
   "cell_type": "markdown",
   "metadata": {},
   "source": [
    "# Detect and crop faces"
   ]
  },
  {
   "cell_type": "code",
   "execution_count": 1,
   "metadata": {},
   "outputs": [],
   "source": [
    "import numpy as np\n",
    "import cv2\n",
    "import matplotlib.pyplot as plt\n",
    "%matplotlib inline"
   ]
  },
  {
   "cell_type": "markdown",
   "metadata": {},
   "source": [
    "### Load haar cascade"
   ]
  },
  {
   "cell_type": "code",
   "execution_count": 2,
   "metadata": {},
   "outputs": [],
   "source": [
    "#https://github.com/Itseez/opencv/blob/master/data/haarcascades/haarcascade_frontalface_default.xml\n",
    "face_cascade = cv2.CascadeClassifier('haarcascades/haarcascade_frontalface_default.xml')"
   ]
  },
  {
   "cell_type": "markdown",
   "metadata": {},
   "source": [
    "### Detect faces"
   ]
  },
  {
   "cell_type": "code",
   "execution_count": 3,
   "metadata": {
    "scrolled": true
   },
   "outputs": [],
   "source": [
    "img = cv2.imread('images/im.jpg')\n",
    "gray = cv2.cvtColor(src=img, code=cv2.COLOR_BGR2GRAY)\n",
    "# scaleFactor Parameter specifying how much the image size is reduced at each image scale.\n",
    "# minNeighbors Parameter specifying how many neighbors each candidate rectangle should have to retain it.\n",
    "face = face_cascade.detectMultiScale(image=gray, scaleFactor=1.3, minNeighbors=5)\n",
    "\n",
    "for (x,y,w,h) in face:\n",
    "    cv2.rectangle(img=img, pt1=(x,y), pt2=(x+w,y+h), color=(255,0,0), thickness=2)\n",
    "    \n",
    "cv2.imshow('Detected', img)\n",
    "# listen to any key (0) to stop\n",
    "cv2.waitKey(0)\n",
    "# close window\n",
    "cv2.destroyAllWindows()\n",
    "\n"
   ]
  },
  {
   "cell_type": "markdown",
   "metadata": {},
   "source": [
    "### Detect faces, crop them and save them"
   ]
  },
  {
   "cell_type": "code",
   "execution_count": 4,
   "metadata": {},
   "outputs": [],
   "source": [
    "img = cv2.imread('images/im.jpg')\n",
    "gray = cv2.cvtColor(src=img, code=cv2.COLOR_BGR2GRAY)\n",
    "# scaleFactor Parameter specifying how much the image size is reduced at each image scale.\n",
    "# minNeighbors Parameter specifying how many neighbors each candidate rectangle should have to retain it.\n",
    "face = face_cascade.detectMultiScale(image=gray, scaleFactor=1.3, minNeighbors=5)\n",
    "\n",
    "for idx,(x,y,w,h) in enumerate(face):\n",
    "    cv2.rectangle(img=img, pt1=(x,y), pt2=(x+w,y+h), color=(255,0,0), thickness=2)\n",
    "    crop_img = img[y:y+h, x:x+w]\n",
    "    cv2.imwrite(f'images/face{idx}.png', crop_img)\n"
   ]
  }
 ],
 "metadata": {
  "kernelspec": {
   "display_name": "icv",
   "language": "python",
   "name": "icv"
  },
  "language_info": {
   "codemirror_mode": {
    "name": "ipython",
    "version": 3
   },
   "file_extension": ".py",
   "mimetype": "text/x-python",
   "name": "python",
   "nbconvert_exporter": "python",
   "pygments_lexer": "ipython3",
   "version": "3.6.8"
  }
 },
 "nbformat": 4,
 "nbformat_minor": 2
}
